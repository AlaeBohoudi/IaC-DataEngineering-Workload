{
    "metadata": {
        "kernelspec": {
            "name": "SQL",
            "display_name": "SQL",
            "language": "sql"
        },
        "language_info": {
            "name": "sql",
            "version": ""
        }
    },
    "nbformat_minor": 2,
    "nbformat": 4,
    "cells": [
        {
            "cell_type": "markdown",
            "source": [
                "Transform number of trips made by duration in hours"
            ],
            "metadata": {
                "azdata_cell_guid": "546f6877-69de-485b-8880-39f31dfff7a5"
            },
            "attachments": {}
        },
        {
            "cell_type": "code",
            "source": [
                "SELECT\n",
                "    DATEDIFF(MINUTE, lpep_pickup_datetime, lpep_dropoff_datetime)/ 60 AS from_hour,\n",
                "    DATEDIFF(MINUTE, lpep_pickup_datetime, lpep_dropoff_datetime)/ 60 + 1 AS to_hour,\n",
                "    COUNT(1) AS number_of_trips\n",
                "FROM\n",
                "    OPENROWSET(\n",
                "        BULK 'trip_data_green_parquet/**',\n",
                "        FORMAT = 'PARQUET',\n",
                "        DATA_SOURCE = 'nyc_taxi_data_raw'    \n",
                "\n",
                "    ) AS [trip_data]\n",
                "GROUP BY DATEDIFF(MINUTE, lpep_pickup_datetime, lpep_dropoff_datetime)/ 60 ,\n",
                "          DATEDIFF(MINUTE, lpep_pickup_datetime, lpep_dropoff_datetime)/ 60 + 1\n",
                "ORDER BY from_hour, to_hour;"
            ],
            "metadata": {
                "azdata_cell_guid": "f74b0b84-8fb9-449c-8c35-72a26cf34a27",
                "language": "sql"
            },
            "outputs": [],
            "execution_count": null
        },
        {
            "cell_type": "markdown",
            "source": [
                "Identify the percentage of cash and credit card trips by borough"
            ],
            "metadata": {
                "azdata_cell_guid": "1f66b04a-e0e8-493d-bfba-dc025e681d9c"
            },
            "attachments": {}
        },
        {
            "cell_type": "code",
            "source": [
                "WITH trip_data_cte AS(\n",
                "SELECT\n",
                "   *\n",
                "FROM\n",
                "    OPENROWSET(\n",
                "                BULK 'trip_data_green_parquet/year=2020/month=01/',\n",
                "                FORMAT = 'PARQUET',\n",
                "                DATA_SOURCE = 'nyc_taxi_data_raw'    \n",
                "\n",
                "                ) AS [trip_data]\n",
                "),\n",
                "\n",
                "taxi_zone_cte AS(\n",
                "SELECT *\n",
                "FROM\n",
                "    OPENROWSET(\n",
                "                BULK 'taxi_zone.csv',\n",
                "                DATA_SOURCE = 'nyc_taxi_data_raw',\n",
                "                FORMAT = 'CSV',\n",
                "                PARSER_VERSION = '2.0',\n",
                "                FIRSTROW = 2\n",
                "            ) \n",
                "            WITH (\n",
                "                location_id SMALLINT 1,\n",
                "                borough VARCHAR(15) 2,\n",
                "                zone VARCHAR(50) 3,\n",
                "                service_zone  VARCHAR(15) 4 \n",
                "            )AS [taxi_zone]\n",
                "),\n",
                "\n",
                "payment_type_cte AS (\n",
                "SELECT * FROM    \n",
                "    OPENROWSET(\n",
                "        BULK 'payment_type.json',\n",
                "        DATA_SOURCE = 'nyc_taxi_data_raw',\n",
                "        FORMAT = 'CSV',\n",
                "        FIELDTERMINATOR = '0x0b',\n",
                "        FIELDQUOTE = '0x0b'\n",
                "    ) WITH(\n",
                "        jsonDoc NVARCHAR(MAX)\n",
                "    )AS payment_type\n",
                "    CROSS APPLY OPENJSON(jsonDoc) --INNER JOIN WITHOUT ANY JOIN CONDITION.\n",
                "    WITH(\n",
                "        payment_type SMALLINT,\n",
                "        description VARCHAR(20) '$.payment_type_desc'\n",
                "    )\n",
                ")  \n",
                "SELECT\n",
                "\n",
                "taxi_zone_cte.borough,\n",
                "COUNT(1) AS total_number_of_trips,\n",
                "SUM(CASE WHEN payment_type_cte.description = 'Cash' THEN 1 ELSE 0 END ) AS cash_trips,\n",
                "SUM(CASE WHEN payment_type_cte.description = 'Credit card' THEN 1 ELSE 0 END ) AS crds_trips,\n",
                "CAST((SUM(CASE WHEN payment_type_cte.description = 'Cash' THEN 1 ELSE 0 END )/ CAST(COUNT(1) AS DECIMAL)) * 100 AS decimal(5,2)) AS cash_percentage,\n",
                "CAST((SUM(CASE WHEN payment_type_cte.description = 'Credit card' THEN 1 ELSE 0 END )/ CAST(COUNT(1) AS DECIMAL)) * 100 AS decimal(5,2)) AS card_percentage\n",
                "\n",
                "FROM trip_data_cte\n",
                "LEFT JOIN taxi_zone_cte ON trip_data_cte.PULocationID = taxi_zone_cte.location_id\n",
                "LEFT JOIN payment_type_cte ON trip_data_cte.payment_type =  payment_type_cte.payment_type\n",
                "\n",
                "WHERE payment_type_cte.description IN ('Cash', 'Credit Card')\n",
                "GROUP BY taxi_zone_cte.borough\n",
                "ORDER BY taxi_zone_cte.borough;"
            ],
            "metadata": {
                "azdata_cell_guid": "2554369b-922c-4e61-9e2e-f8657a58e856",
                "language": "sql"
            },
            "outputs": [
                {
                    "output_type": "display_data",
                    "data": {
                        "text/html": "Statement ID: {193CFCE1-35EB-4CBA-95D6-6471CACE8223} | Query hash: 0x484779F84D218DA9 | Distributed request ID: {CDA992C1-1458-4CD2-B48D-9FC9848747F0}. Total size of data scanned is 2 megabytes, total size of data moved is 1 megabytes, total size of data written is 0 megabytes."
                    },
                    "metadata": {}
                },
                {
                    "output_type": "display_data",
                    "data": {
                        "text/html": "(7 rows affected)"
                    },
                    "metadata": {}
                },
                {
                    "output_type": "display_data",
                    "data": {
                        "text/html": "Total execution time: 00:00:01.569"
                    },
                    "metadata": {}
                },
                {
                    "output_type": "execute_result",
                    "metadata": {},
                    "execution_count": 8,
                    "data": {
                        "application/vnd.dataresource+json": {
                            "schema": {
                                "fields": [
                                    {
                                        "name": "borough"
                                    },
                                    {
                                        "name": "total_number_of_trips"
                                    },
                                    {
                                        "name": "cash_trips"
                                    },
                                    {
                                        "name": "crds_trips"
                                    },
                                    {
                                        "name": "cash_percentage"
                                    },
                                    {
                                        "name": "card_percentage"
                                    }
                                ]
                            },
                            "data": [
                                {
                                    "0": "Bronx",
                                    "1": "12116",
                                    "2": "5330",
                                    "3": "6786",
                                    "4": "43.99",
                                    "5": "56.01"
                                },
                                {
                                    "0": "Brooklyn",
                                    "1": "79997",
                                    "2": "25821",
                                    "3": "54176",
                                    "4": "32.28",
                                    "5": "67.72"
                                },
                                {
                                    "0": "EWR",
                                    "1": "4",
                                    "2": "0",
                                    "3": "4",
                                    "4": "0.00",
                                    "5": "100.00"
                                },
                                {
                                    "0": "Manhattan",
                                    "1": "137808",
                                    "2": "60543",
                                    "3": "77265",
                                    "4": "43.93",
                                    "5": "56.07"
                                },
                                {
                                    "0": "Queens",
                                    "1": "98648",
                                    "2": "53081",
                                    "3": "45567",
                                    "4": "53.81",
                                    "5": "46.19"
                                },
                                {
                                    "0": "Staten Island",
                                    "1": "138",
                                    "2": "31",
                                    "3": "107",
                                    "4": "22.46",
                                    "5": "77.54"
                                },
                                {
                                    "0": "Unknown",
                                    "1": "720",
                                    "2": "221",
                                    "3": "499",
                                    "4": "30.69",
                                    "5": "69.31"
                                }
                            ]
                        },
                        "text/html": [
                            "<table>",
                            "<tr><th>borough</th><th>total_number_of_trips</th><th>cash_trips</th><th>crds_trips</th><th>cash_percentage</th><th>card_percentage</th></tr>",
                            "<tr><td>Bronx</td><td>12116</td><td>5330</td><td>6786</td><td>43.99</td><td>56.01</td></tr>",
                            "<tr><td>Brooklyn</td><td>79997</td><td>25821</td><td>54176</td><td>32.28</td><td>67.72</td></tr>",
                            "<tr><td>EWR</td><td>4</td><td>0</td><td>4</td><td>0.00</td><td>100.00</td></tr>",
                            "<tr><td>Manhattan</td><td>137808</td><td>60543</td><td>77265</td><td>43.93</td><td>56.07</td></tr>",
                            "<tr><td>Queens</td><td>98648</td><td>53081</td><td>45567</td><td>53.81</td><td>46.19</td></tr>",
                            "<tr><td>Staten Island</td><td>138</td><td>31</td><td>107</td><td>22.46</td><td>77.54</td></tr>",
                            "<tr><td>Unknown</td><td>720</td><td>221</td><td>499</td><td>30.69</td><td>69.31</td></tr>",
                            "</table>"
                        ]
                    }
                }
            ],
            "execution_count": 8
        }
    ]
}