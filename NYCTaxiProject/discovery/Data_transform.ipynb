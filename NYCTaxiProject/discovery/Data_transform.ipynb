{
    "metadata": {
        "kernelspec": {
            "name": "SQL",
            "display_name": "SQL",
            "language": "sql"
        },
        "language_info": {
            "name": "sql",
            "version": ""
        }
    },
    "nbformat_minor": 2,
    "nbformat": 4,
    "cells": [
        {
            "cell_type": "markdown",
            "source": [
                "Transform number of trips made by duration in hours"
            ],
            "metadata": {
                "azdata_cell_guid": "546f6877-69de-485b-8880-39f31dfff7a5"
            },
            "attachments": {}
        },
        {
            "cell_type": "code",
            "source": [
                "SELECT\n",
                "    DATEDIFF(MINUTE, lpep_pickup_datetime, lpep_dropoff_datetime)/ 60 AS from_hour,\n",
                "    DATEDIFF(MINUTE, lpep_pickup_datetime, lpep_dropoff_datetime)/ 60 + 1 AS to_hour,\n",
                "    COUNT(1) AS number_of_trips\n",
                "FROM\n",
                "    OPENROWSET(\n",
                "        BULK 'trip_data_green_parquet/**',\n",
                "        FORMAT = 'PARQUET',\n",
                "        DATA_SOURCE = 'nyc_taxi_data_raw'    \n",
                "\n",
                "    ) AS [trip_data]\n",
                "GROUP BY DATEDIFF(MINUTE, lpep_pickup_datetime, lpep_dropoff_datetime)/ 60 ,\n",
                "          DATEDIFF(MINUTE, lpep_pickup_datetime, lpep_dropoff_datetime)/ 60 + 1\n",
                "ORDER BY from_hour, to_hour;"
            ],
            "metadata": {
                "azdata_cell_guid": "f74b0b84-8fb9-449c-8c35-72a26cf34a27",
                "language": "sql"
            },
            "outputs": [],
            "execution_count": null
        },
        {
            "cell_type": "markdown",
            "source": [
                "Identify the percentage of cash and credit card trips by borough"
            ],
            "metadata": {
                "azdata_cell_guid": "1f66b04a-e0e8-493d-bfba-dc025e681d9c"
            },
            "attachments": {}
        },
        {
            "cell_type": "code",
            "source": [
                "WITH trip_data_cte AS(\n",
                "SELECT\n",
                "   *\n",
                "FROM\n",
                "    OPENROWSET(\n",
                "                BULK 'trip_data_green_parquet/year=2020/month=01/',\n",
                "                FORMAT = 'PARQUET',\n",
                "                DATA_SOURCE = 'nyc_taxi_data_raw'    \n",
                "\n",
                "                ) AS [trip_data]\n",
                "),\n",
                "\n",
                "taxi_zone_cte AS(\n",
                "SELECT *\n",
                "FROM\n",
                "    OPENROWSET(\n",
                "                BULK 'taxi_zone.csv',\n",
                "                DATA_SOURCE = 'nyc_taxi_data_raw',\n",
                "                FORMAT = 'CSV',\n",
                "                PARSER_VERSION = '2.0',\n",
                "                FIRSTROW = 2\n",
                "            ) \n",
                "            WITH (\n",
                "                location_id SMALLINT 1,\n",
                "                borough VARCHAR(15) 2,\n",
                "                zone VARCHAR(50) 3,\n",
                "                service_zone  VARCHAR(15) 4 \n",
                "            )AS [taxi_zone]\n",
                "),\n",
                "\n",
                "payment_type_cte AS (\n",
                "SELECT * FROM    \n",
                "    OPENROWSET(\n",
                "        BULK 'payment_type.json',\n",
                "        DATA_SOURCE = 'nyc_taxi_data_raw',\n",
                "        FORMAT = 'CSV',\n",
                "        FIELDTERMINATOR = '0x0b',\n",
                "        FIELDQUOTE = '0x0b'\n",
                "    ) WITH(\n",
                "        jsonDoc NVARCHAR(MAX)\n",
                "    )AS payment_type\n",
                "    CROSS APPLY OPENJSON(jsonDoc) --INNER JOIN WITHOUT ANY JOIN CONDITION.\n",
                "    WITH(\n",
                "        payment_type SMALLINT,\n",
                "        description VARCHAR(20) '$.payment_type_desc'\n",
                "    )\n",
                ")  \n",
                "SELECT\n",
                "\n",
                "taxi_zone_cte.borough,\n",
                "COUNT(1) AS total_number_of_trips,\n",
                "SUM(CASE WHEN payment_type_cte.description = 'Cash' THEN 1 ELSE 0 END ) AS cash_trips,\n",
                "SUM(CASE WHEN payment_type_cte.description = 'Credit card' THEN 1 ELSE 0 END ) AS crds_trips,\n",
                "CAST((SUM(CASE WHEN payment_type_cte.description = 'Cash' THEN 1 ELSE 0 END )/ CAST(COUNT(1) AS DECIMAL)) * 100 AS decimal(5,2)) AS cash_percentage,\n",
                "CAST((SUM(CASE WHEN payment_type_cte.description = 'Credit card' THEN 1 ELSE 0 END )/ CAST(COUNT(1) AS DECIMAL)) * 100 AS decimal(5,2)) AS card_percentage\n",
                "\n",
                "FROM trip_data_cte\n",
                "LEFT JOIN taxi_zone_cte ON trip_data_cte.PULocationID = taxi_zone_cte.location_id\n",
                "LEFT JOIN payment_type_cte ON trip_data_cte.payment_type =  payment_type_cte.payment_type\n",
                "\n",
                "WHERE payment_type_cte.description IN ('Cash', 'Credit Card')\n",
                "GROUP BY taxi_zone_cte.borough\n",
                "ORDER BY taxi_zone_cte.borough;"
            ],
            "metadata": {
                "azdata_cell_guid": "2554369b-922c-4e61-9e2e-f8657a58e856",
                "language": "sql"
            },
            "outputs": [],
            "execution_count": null
        }
    ]
}