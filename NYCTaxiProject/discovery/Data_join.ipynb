{
    "metadata": {
        "kernelspec": {
            "name": "SQL",
            "display_name": "SQL",
            "language": "sql"
        },
        "language_info": {
            "name": "sql",
            "version": ""
        }
    },
    "nbformat_minor": 2,
    "nbformat": 4,
    "cells": [
        {
            "cell_type": "markdown",
            "source": [
                "Identify number of trips from each borough"
            ],
            "metadata": {
                "azdata_cell_guid": "d74a8f2f-e8ad-46be-a8cc-68282c5d3d2d"
            },
            "attachments": {}
        },
        {
            "cell_type": "code",
            "source": [
                "SELECT\n",
                "    TOP 100 *\n",
                "FROM\n",
                "    OPENROWSET(\n",
                "        BULK 'trip_data_green_parquet/year=2020/month=01/',\n",
                "        FORMAT = 'PARQUET',\n",
                "        DATA_SOURCE = 'nyc_taxi_data_raw'    \n",
                "\n",
                "    ) AS [result];"
            ],
            "metadata": {
                "azdata_cell_guid": "a960c4ba-c1ab-4a46-af8b-5f72f7bbdf99",
                "language": "sql",
                "tags": []
            },
            "outputs": [],
            "execution_count": null
        },
        {
            "cell_type": "code",
            "source": [
                "SELECT\n",
                "    taxi_zone.borough, COUNT(1) AS number_of_trips\n",
                "FROM\n",
                "    OPENROWSET(\n",
                "                BULK 'trip_data_green_parquet/year=2020/month=01/',\n",
                "                FORMAT = 'PARQUET',\n",
                "                DATA_SOURCE = 'nyc_taxi_data_raw'    \n",
                "\n",
                "                ) AS [trip_data]\n",
                "    JOIN\n",
                "    OPENROWSET(\n",
                "                BULK 'taxi_zone.csv',\n",
                "                DATA_SOURCE = 'nyc_taxi_data_raw',\n",
                "                FORMAT = 'CSV',\n",
                "                PARSER_VERSION = '2.0',\n",
                "                FIRSTROW = 2\n",
                "            ) \n",
                "            WITH (\n",
                "                location_id SMALLINT 1,\n",
                "                borough VARCHAR(15) 2,\n",
                "                zone VARCHAR(50) 3,\n",
                "                service_zone  VARCHAR(15) 4 \n",
                "            )AS [taxi_zone]\n",
                "\n",
                "    ON trip_data.PULocationID = taxi_zone.location_id\n",
                "    \n",
                "    \n",
                "    \n",
                "    GROUP BY taxi_zone.borough\n",
                "    ORDER BY number_of_trips DESC;\n",
                "\n",
                ""
            ],
            "metadata": {
                "language": "sql",
                "azdata_cell_guid": "0b3fc2c5-f77e-43e0-befd-6747c68aabe5",
                "tags": []
            },
            "outputs": [],
            "execution_count": null
        }
    ]
}