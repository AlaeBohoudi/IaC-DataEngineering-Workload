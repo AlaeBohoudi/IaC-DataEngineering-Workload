{
    "metadata": {
        "kernelspec": {
            "name": "SQL",
            "display_name": "SQL",
            "language": "sql"
        },
        "language_info": {
            "name": "sql",
            "version": ""
        }
    },
    "nbformat_minor": 2,
    "nbformat": 4,
    "cells": [
        {
            "cell_type": "markdown",
            "source": [
                "```\n",
                "Check for duplicates (Primary Key) .\n",
                "```"
            ],
            "metadata": {
                "azdata_cell_guid": "6abba182-9f5a-493b-afd2-a591654ba916"
            },
            "attachments": {}
        },
        {
            "cell_type": "code",
            "source": [
                "SELECT\n",
                "    location_id, COUNT(1) AS numbers_of_records\n",
                "FROM\n",
                "    OPENROWSET(\n",
                "        BULK 'abfss://nyc-taxi-data@wsmaindl.dfs.core.windows.net/raw/taxi_zone.csv',\n",
                "        FORMAT = 'CSV',\n",
                "        PARSER_VERSION = '2.0',\n",
                "        FIRSTROW = 2,\n",
                "        FIELDTERMINATOR = ',',\n",
                "        ROWTERMINATOR = '\\n'\n",
                "    ) \n",
                "    WITH (\n",
                "        location_id SMALLINT 1,\n",
                "        borough VARCHAR(15) 2,\n",
                "        zone VARCHAR(50) 3,\n",
                "        service_zone  VARCHAR(15) 4 \n",
                "    )AS [result]\n",
                "    GROUP BY location_id\n",
                "    HAVING COUNT(1) > 1;"
            ],
            "metadata": {
                "azdata_cell_guid": "50d641b5-d28a-429e-af98-f3b6aebcf393",
                "language": "sql",
                "tags": []
            },
            "outputs": [],
            "execution_count": null
        },
        {
            "cell_type": "markdown",
            "source": [
                "Data quality checks for trip totoal amount"
            ],
            "metadata": {
                "azdata_cell_guid": "295e6139-1d16-493f-899a-68be3f432217"
            },
            "attachments": {}
        },
        {
            "cell_type": "code",
            "source": [
                "SELECT\n",
                "    MAX(total_amount) AS max_total_amount,\n",
                "    MIN(total_amount) AS min_total_amount,\n",
                "    AVG(total_amount) AS avg_total_amount,\n",
                "    COUNT(1) AS total_records,\n",
                "    COUNT(total_amount) AS not_null_total_number_of_records\n",
                "FROM\n",
                "    OPENROWSET(\n",
                "        BULK 'trip_data_green_parquet/year=2020/month=01/',\n",
                "        FORMAT = 'PARQUET',\n",
                "        DATA_SOURCE = 'nyc_taxi_data_raw'    \n",
                "\n",
                "    ) AS [result]"
            ],
            "metadata": {
                "azdata_cell_guid": "271fe264-90e8-4613-af9f-2165d37e7b59",
                "language": "sql",
                "tags": []
            },
            "outputs": [],
            "execution_count": null
        },
        {
            "cell_type": "markdown",
            "source": [
                "Check why totoal amount has negative values."
            ],
            "metadata": {
                "azdata_cell_guid": "703729b8-3cd0-4202-9b5b-c5ae77308e59"
            },
            "attachments": {}
        },
        {
            "cell_type": "code",
            "source": [
                "SELECT\n",
                "    payment_type, COUNT(1)\n",
                "    \n",
                "FROM\n",
                "    OPENROWSET(\n",
                "        BULK 'trip_data_green_parquet/year=2020/month=01/',\n",
                "        FORMAT = 'PARQUET',\n",
                "        DATA_SOURCE = 'nyc_taxi_data_raw'    \n",
                "\n",
                "    ) AS [result]\n",
                "    --WHERE total_amount < 0\n",
                "    GROUP BY payment_type\n",
                "    ORDER BY payment_type;"
            ],
            "metadata": {
                "azdata_cell_guid": "fee63bf4-383c-4f7d-b0df-f1b10f4e68c1",
                "language": "sql",
                "tags": []
            },
            "outputs": [
                {
                    "output_type": "display_data",
                    "data": {
                        "text/html": "Statement ID: {06383632-5290-4642-95EB-8FC5BAF7E80A} | Query hash: 0xC962DA78CD50125C | Distributed request ID: {886D934B-252A-4DC6-97CB-49A15A683A0A}. Total size of data scanned is 1 megabytes, total size of data moved is 1 megabytes, total size of data written is 0 megabytes."
                    },
                    "metadata": {}
                },
                {
                    "output_type": "display_data",
                    "data": {
                        "text/html": "(6 rows affected)"
                    },
                    "metadata": {}
                },
                {
                    "output_type": "display_data",
                    "data": {
                        "text/html": "Total execution time: 00:00:00.293"
                    },
                    "metadata": {}
                },
                {
                    "output_type": "execute_result",
                    "metadata": {},
                    "execution_count": 8,
                    "data": {
                        "application/vnd.dataresource+json": {
                            "schema": {
                                "fields": [
                                    {
                                        "name": "payment_type"
                                    },
                                    {
                                        "name": "(No column name)"
                                    }
                                ]
                            },
                            "data": [
                                {
                                    "0": "NULL",
                                    "1": "116051"
                                },
                                {
                                    "0": "1",
                                    "1": "184404"
                                },
                                {
                                    "0": "2",
                                    "1": "145027"
                                },
                                {
                                    "0": "3",
                                    "1": "1691"
                                },
                                {
                                    "0": "4",
                                    "1": "581"
                                },
                                {
                                    "0": "5",
                                    "1": "16"
                                }
                            ]
                        },
                        "text/html": [
                            "<table>",
                            "<tr><th>payment_type</th><th>(No column name)</th></tr>",
                            "<tr><td>NULL</td><td>116051</td></tr>",
                            "<tr><td>1</td><td>184404</td></tr>",
                            "<tr><td>2</td><td>145027</td></tr>",
                            "<tr><td>3</td><td>1691</td></tr>",
                            "<tr><td>4</td><td>581</td></tr>",
                            "<tr><td>5</td><td>16</td></tr>",
                            "</table>"
                        ]
                    }
                }
            ],
            "execution_count": 8
        },
        {
            "cell_type": "markdown",
            "source": [
                "Check payment type"
            ],
            "metadata": {
                "azdata_cell_guid": "1c704738-af96-4d75-bed2-afb1654a1426"
            },
            "attachments": {}
        },
        {
            "cell_type": "code",
            "source": [
                "SELECT payment_type, description\n",
                "FROM\n",
                "    OPENROWSET(\n",
                "        BULK 'payment_type.json',\n",
                "        DATA_SOURCE = 'nyc_taxi_data_raw',\n",
                "        FORMAT = 'CSV',\n",
                "        FIELDTERMINATOR = '0x0b',\n",
                "        FIELDQUOTE = '0x0b'\n",
                "    ) WITH(\n",
                "        jsonDoc NVARCHAR(MAX)\n",
                "    )AS payment_type\n",
                "    CROSS APPLY OPENJSON(jsonDoc) --INNER JOIN WITHOUT ANY JOIN CONDITION.\n",
                "    WITH(\n",
                "        payment_type SMALLINT,\n",
                "        description VARCHAR(20) '$.payment_type_desc'\n",
                "    );"
            ],
            "metadata": {
                "azdata_cell_guid": "a26583d4-a6a7-4a42-809c-2ac362450b67",
                "language": "sql"
            },
            "outputs": [
                {
                    "output_type": "display_data",
                    "data": {
                        "text/html": "Statement ID: {4E719245-3E57-4401-AA8A-E0F1A8C57273} | Query hash: 0xE9E175CCEF225A4E | Distributed request ID: {DEE8BAE3-E153-4817-9750-B23C5E403E1C}. Total size of data scanned is 1 megabytes, total size of data moved is 1 megabytes, total size of data written is 0 megabytes."
                    },
                    "metadata": {}
                },
                {
                    "output_type": "display_data",
                    "data": {
                        "text/html": "(6 rows affected)"
                    },
                    "metadata": {}
                },
                {
                    "output_type": "display_data",
                    "data": {
                        "text/html": "Total execution time: 00:00:00.385"
                    },
                    "metadata": {}
                },
                {
                    "output_type": "execute_result",
                    "metadata": {},
                    "execution_count": 9,
                    "data": {
                        "application/vnd.dataresource+json": {
                            "schema": {
                                "fields": [
                                    {
                                        "name": "payment_type"
                                    },
                                    {
                                        "name": "description"
                                    }
                                ]
                            },
                            "data": [
                                {
                                    "0": "1",
                                    "1": "Credit card"
                                },
                                {
                                    "0": "2",
                                    "1": "Cash"
                                },
                                {
                                    "0": "3",
                                    "1": "No charge"
                                },
                                {
                                    "0": "4",
                                    "1": "Dispute"
                                },
                                {
                                    "0": "5",
                                    "1": "Unknown"
                                },
                                {
                                    "0": "6",
                                    "1": "Voided trip"
                                }
                            ]
                        },
                        "text/html": [
                            "<table>",
                            "<tr><th>payment_type</th><th>description</th></tr>",
                            "<tr><td>1</td><td>Credit card</td></tr>",
                            "<tr><td>2</td><td>Cash</td></tr>",
                            "<tr><td>3</td><td>No charge</td></tr>",
                            "<tr><td>4</td><td>Dispute</td></tr>",
                            "<tr><td>5</td><td>Unknown</td></tr>",
                            "<tr><td>6</td><td>Voided trip</td></tr>",
                            "</table>"
                        ]
                    }
                }
            ],
            "execution_count": 9
        }
    ]
}