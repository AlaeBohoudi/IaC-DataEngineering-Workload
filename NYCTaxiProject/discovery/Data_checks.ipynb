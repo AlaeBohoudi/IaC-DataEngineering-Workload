{
    "metadata": {
        "kernelspec": {
            "name": "SQL",
            "display_name": "SQL",
            "language": "sql"
        },
        "language_info": {
            "name": "sql",
            "version": ""
        }
    },
    "nbformat_minor": 2,
    "nbformat": 4,
    "cells": [
        {
            "cell_type": "markdown",
            "source": [
                "```\n",
                "Check for duplicates (Primary Key) .\n",
                "```"
            ],
            "metadata": {
                "azdata_cell_guid": "6abba182-9f5a-493b-afd2-a591654ba916"
            },
            "attachments": {}
        },
        {
            "cell_type": "code",
            "source": [
                "SELECT\n",
                "    location_id, COUNT(1) AS numbers_of_records\n",
                "FROM\n",
                "    OPENROWSET(\n",
                "        BULK 'abfss://nyc-taxi-data@wsmaindl.dfs.core.windows.net/raw/taxi_zone.csv',\n",
                "        FORMAT = 'CSV',\n",
                "        PARSER_VERSION = '2.0',\n",
                "        FIRSTROW = 2,\n",
                "        FIELDTERMINATOR = ',',\n",
                "        ROWTERMINATOR = '\\n'\n",
                "    ) \n",
                "    WITH (\n",
                "        location_id SMALLINT 1,\n",
                "        borough VARCHAR(15) 2,\n",
                "        zone VARCHAR(50) 3,\n",
                "        service_zone  VARCHAR(15) 4 \n",
                "    )AS [result]\n",
                "    GROUP BY location_id\n",
                "    HAVING COUNT(1) > 1;"
            ],
            "metadata": {
                "azdata_cell_guid": "50d641b5-d28a-429e-af98-f3b6aebcf393",
                "language": "sql",
                "tags": []
            },
            "outputs": [],
            "execution_count": null
        },
        {
            "cell_type": "markdown",
            "source": [
                "Data quality checks for trip totoal amount"
            ],
            "metadata": {
                "azdata_cell_guid": "295e6139-1d16-493f-899a-68be3f432217"
            },
            "attachments": {}
        },
        {
            "cell_type": "code",
            "source": [
                "SELECT\n",
                "    MAX(total_amount) AS max_total_amount,\n",
                "    MIN(total_amount) AS min_total_amount,\n",
                "    AVG(total_amount) AS avg_total_amount,\n",
                "    COUNT(1) AS total_records,\n",
                "    COUNT(total_amount) AS not_null_total_number_of_records\n",
                "FROM\n",
                "    OPENROWSET(\n",
                "        BULK 'trip_data_green_parquet/year=2020/month=01/',\n",
                "        FORMAT = 'PARQUET',\n",
                "        DATA_SOURCE = 'nyc_taxi_data_raw'    \n",
                "\n",
                "    ) AS [result]"
            ],
            "metadata": {
                "azdata_cell_guid": "271fe264-90e8-4613-af9f-2165d37e7b59",
                "language": "sql",
                "tags": []
            },
            "outputs": [],
            "execution_count": null
        },
        {
            "cell_type": "markdown",
            "source": [
                "Check why totoal amount has negative values."
            ],
            "metadata": {
                "azdata_cell_guid": "703729b8-3cd0-4202-9b5b-c5ae77308e59"
            },
            "attachments": {}
        },
        {
            "cell_type": "code",
            "source": [
                "SELECT\n",
                "    payment_type, COUNT(1)\n",
                "    \n",
                "FROM\n",
                "    OPENROWSET(\n",
                "        BULK 'trip_data_green_parquet/year=2020/month=01/',\n",
                "        FORMAT = 'PARQUET',\n",
                "        DATA_SOURCE = 'nyc_taxi_data_raw'    \n",
                "\n",
                "    ) AS [result]\n",
                "    --WHERE total_amount < 0\n",
                "    GROUP BY payment_type\n",
                "    ORDER BY payment_type;"
            ],
            "metadata": {
                "azdata_cell_guid": "fee63bf4-383c-4f7d-b0df-f1b10f4e68c1",
                "language": "sql",
                "tags": []
            },
            "outputs": [],
            "execution_count": null
        },
        {
            "cell_type": "markdown",
            "source": [
                "Check payment type"
            ],
            "metadata": {
                "azdata_cell_guid": "1c704738-af96-4d75-bed2-afb1654a1426"
            },
            "attachments": {}
        },
        {
            "cell_type": "code",
            "source": [
                "SELECT payment_type, description\n",
                "FROM\n",
                "    OPENROWSET(\n",
                "        BULK 'payment_type.json',\n",
                "        DATA_SOURCE = 'nyc_taxi_data_raw',\n",
                "        FORMAT = 'CSV',\n",
                "        FIELDTERMINATOR = '0x0b',\n",
                "        FIELDQUOTE = '0x0b'\n",
                "    ) WITH(\n",
                "        jsonDoc NVARCHAR(MAX)\n",
                "    )AS payment_type\n",
                "    CROSS APPLY OPENJSON(jsonDoc) --INNER JOIN WITHOUT ANY JOIN CONDITION.\n",
                "    WITH(\n",
                "        payment_type SMALLINT,\n",
                "        description VARCHAR(20) '$.payment_type_desc'\n",
                "    );"
            ],
            "metadata": {
                "azdata_cell_guid": "a26583d4-a6a7-4a42-809c-2ac362450b67",
                "language": "sql"
            },
            "outputs": [],
            "execution_count": null
        }
    ]
}